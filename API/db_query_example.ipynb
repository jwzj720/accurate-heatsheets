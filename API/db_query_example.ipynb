{
 "cells": [
  {
   "cell_type": "code",
   "execution_count": 3,
   "metadata": {},
   "outputs": [
    {
     "name": "stdout",
     "output_type": "stream",
     "text": [
      "Walt Jones's personal best in 5k is 235.72\n",
      "Walt Jones's best in 5k for the year 2023 is 235.72\n"
     ]
    }
   ],
   "source": [
    "from db_query import db_query \n",
    "\n",
    "dbq = db_query()\n",
    "\n",
    "first_name = \"Walt\"\n",
    "last_name = \"Jones\"\n",
    "team = \"Colorado\"\n",
    "distance = \"5k\"  \n",
    "year = 2023\n",
    "personal_best_time = dbq.get_personal_best(first_name, last_name, distance, team)\n",
    "print(f\"{first_name} {last_name}'s personal best in {distance} is {personal_best_time}\")\n",
    "season_best_time = dbq.get_season_best(first_name, last_name, year, distance, team)\n",
    "print(f\"{first_name} {last_name}'s best in {distance} for the year {year} is {season_best_time}\")"
   ]
  },
  {
   "cell_type": "markdown",
   "metadata": {},
   "source": []
  },
  {
   "cell_type": "markdown",
   "metadata": {},
   "source": []
  },
  {
   "cell_type": "code",
   "execution_count": 4,
   "metadata": {},
   "outputs": [],
   "source": [
    "import sys\n",
    "sys.path.append(\"..\")"
   ]
  },
  {
   "cell_type": "code",
   "execution_count": null,
   "metadata": {},
   "outputs": [],
   "source": []
  },
  {
   "cell_type": "code",
   "execution_count": null,
   "metadata": {},
   "outputs": [],
   "source": []
  },
  {
   "cell_type": "code",
   "execution_count": null,
   "metadata": {},
   "outputs": [],
   "source": []
  },
  {
   "cell_type": "code",
   "execution_count": null,
   "metadata": {},
   "outputs": [],
   "source": []
  }
 ],
 "metadata": {
  "kernelspec": {
   "display_name": "capstone_kernal",
   "language": "python",
   "name": "capstone_kernal"
  },
  "language_info": {
   "codemirror_mode": {
    "name": "ipython",
    "version": 3
   },
   "file_extension": ".py",
   "mimetype": "text/x-python",
   "name": "python",
   "nbconvert_exporter": "python",
   "pygments_lexer": "ipython3",
   "version": "3.10.12"
  }
 },
 "nbformat": 4,
 "nbformat_minor": 2
}
