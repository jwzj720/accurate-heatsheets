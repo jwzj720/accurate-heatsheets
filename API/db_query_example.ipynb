{
 "cells": [
  {
   "cell_type": "code",
   "execution_count": 6,
   "metadata": {},
   "outputs": [
    {
     "name": "stdout",
     "output_type": "stream",
     "text": [
      "Haleigh Guerrero's personal best in 5k is 1074.0\n",
      "Haleigh Guerrero's best in 5k for the year 2022 is 1177.0\n"
     ]
    }
   ],
   "source": [
    "from db_query import db_query \n",
    "\n",
    "dbq = db_query()\n",
    "\n",
    "first_name = \"Haleigh\"\n",
    "last_name = \"Guerrero\"\n",
    "team = \"Azusa Pacific\"\n",
    "distance = \"5k\"  \n",
    "year = 2022\n",
    "personal_best_time = dbq.get_personal_best(first_name, last_name, distance, team)\n",
    "print(f\"{first_name} {last_name}'s personal best in {distance} is {personal_best_time}\")\n",
    "season_best_time = dbq.get_season_best(first_name, last_name, year, distance, team)\n",
    "print(f\"{first_name} {last_name}'s best in {distance} for the year {year} is {season_best_time}\")"
   ]
  },
  {
   "cell_type": "code",
   "execution_count": null,
   "metadata": {},
   "outputs": [],
   "source": []
  },
  {
   "cell_type": "code",
   "execution_count": null,
   "metadata": {},
   "outputs": [],
   "source": []
  },
  {
   "cell_type": "code",
   "execution_count": null,
   "metadata": {},
   "outputs": [],
   "source": []
  },
  {
   "cell_type": "code",
   "execution_count": null,
   "metadata": {},
   "outputs": [],
   "source": []
  },
  {
   "cell_type": "code",
   "execution_count": null,
   "metadata": {},
   "outputs": [],
   "source": []
  }
 ],
 "metadata": {
  "kernelspec": {
   "display_name": "capstone_kernal",
   "language": "python",
   "name": "capstone_kernal"
  },
  "language_info": {
   "codemirror_mode": {
    "name": "ipython",
    "version": 3
   },
   "file_extension": ".py",
   "mimetype": "text/x-python",
   "name": "python",
   "nbconvert_exporter": "python",
   "pygments_lexer": "ipython3",
   "version": "3.10.12"
  }
 },
 "nbformat": 4,
 "nbformat_minor": 2
}
