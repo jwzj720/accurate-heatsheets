{
 "cells": [
  {
   "cell_type": "code",
   "execution_count": 1,
   "metadata": {},
   "outputs": [],
   "source": [
    "import os\n",
    "from dotenv import load_dotenv\n",
    "import psycopg2\n",
    "import requests\n",
    "from typing import Dict, List\n",
    "import logging "
   ]
  },
  {
   "cell_type": "code",
   "execution_count": 2,
   "metadata": {},
   "outputs": [
    {
     "data": {
      "text/plain": [
       "True"
      ]
     },
     "execution_count": 2,
     "metadata": {},
     "output_type": "execute_result"
    }
   ],
   "source": [
    "load_dotenv('/home/wjones/CC/Capstone/tbd2/LACCTiC/.env', override=True)\n"
   ]
  },
  {
   "cell_type": "code",
   "execution_count": 4,
   "metadata": {},
   "outputs": [],
   "source": [
    "logging.basicConfig(filename='db_query.log', filemode='w', format='%(name)s - %(levelname)s - %(message)s', level=logging.INFO)\n"
   ]
  },
  {
   "cell_type": "code",
   "execution_count": 5,
   "metadata": {},
   "outputs": [],
   "source": [
    "db_name = os.getenv('DB_NAME')\n",
    "db_user = os.getenv('DB_USER')\n",
    "db_password = os.getenv('DB_PASS')\n",
    "db_host = os.getenv('DB_HOST')\n",
    "db_port = os.getenv('DB_PORT')"
   ]
  },
  {
   "cell_type": "code",
   "execution_count": 6,
   "metadata": {},
   "outputs": [],
   "source": [
    "# Connect to the database\n",
    "db_params = {\n",
    "    'dbname': db_name,\n",
    "    'user': db_user,\n",
    "    'password' : db_password,\n",
    "    'host' : db_host,\n",
    "    'port' : db_port\n",
    "}"
   ]
  },
  {
   "cell_type": "code",
   "execution_count": 7,
   "metadata": {},
   "outputs": [],
   "source": [
    "def connect_db(db_params):\n",
    "    \"\"\"Connect to the PostgreSQL database server.\"\"\"\n",
    "    conn = psycopg2.connect(**db_params)\n",
    "    return conn"
   ]
  },
  {
   "cell_type": "code",
   "execution_count": 54,
   "metadata": {},
   "outputs": [],
   "source": [
    "def get_personal_best(conn, first_name: str, last_name: str, distance: str) -> None:\n",
    "    \n",
    "    if distance == '8k':\n",
    "        one = '8k'\n",
    "        two = '8,000m'\n",
    "        three = '8000m'\n",
    "        four = '8.0k'\n",
    "        five = \"8000\"\n",
    "        six = \"8\"\n",
    "    elif distance == '10k':\n",
    "        one = '10k'\n",
    "        two = '10,000m'\n",
    "        three = '10000m'\n",
    "        four = '10.0k'\n",
    "        five = \"10000\"\n",
    "        six = \"10\"\n",
    "    elif distance == '5k':  \n",
    "        one = '5k'\n",
    "        two = '5,000m'\n",
    "        three = '5000m'\n",
    "        four = '5.0k'\n",
    "        five = \"5000\"\n",
    "        six = \"5\"\n",
    "    elif distance == '6k':\n",
    "        one = '6k'\n",
    "        two = '6,000m'\n",
    "        three = '6000m'\n",
    "        four = '6.0k'\n",
    "        five = \"6000\"\n",
    "        six = \"6\"\n",
    "    else:\n",
    "        print(\"Invalid distance\")\n",
    "        return\n",
    "    with conn.cursor() as cur:\n",
    "        cur.execute(\"\"\"\n",
    "            SELECT \n",
    "                rn.firstname,\n",
    "                rn.lastname,\n",
    "                MIN(rr.time) AS personal_best_time\n",
    "            FROM \n",
    "                Runners rn\n",
    "            JOIN \n",
    "                RaceResults rr ON rn.lacctic_id = rr.lacctic_id\n",
    "            JOIN \n",
    "                Races r ON rr.meet_id = r.meet_id\n",
    "            WHERE \n",
    "                rn.firstname = %s AND rn.lastname = %s AND \n",
    "                (\n",
    "                    r.section LIKE %s OR\n",
    "                    r.section LIKE %s OR\n",
    "                    r.section LIKE %s OR\n",
    "                    r.section LIKE %s OR\n",
    "                    r.section LIKE %s OR\n",
    "                    r.section LIKE %s\n",
    "                )\n",
    "            GROUP BY \n",
    "                rn.firstname, rn.lastname;\n",
    "        \"\"\", (first_name, last_name, \"%\"+one+\"%\", \"%\"+two+\"%\", \"%\"+three+\"%\", \"%\"+four+\"%\", \"%\"+five+\"%\", \"%\"+six+\"%\"))\n",
    "        \n",
    "        result = cur.fetchone()\n",
    "        if result:\n",
    "            print(f\"Personal best for {result[0]} {result[1]}: {result[2]}\")\n",
    "        else:\n",
    "            print(f\"No data found for runner {first_name} {last_name}\")\n"
   ]
  },
  {
   "cell_type": "code",
   "execution_count": 62,
   "metadata": {},
   "outputs": [
    {
     "name": "stdout",
     "output_type": "stream",
     "text": [
      "Personal best for Britt Helgaas: 1407.2\n",
      "None\n"
     ]
    }
   ],
   "source": [
    "conn = connect_db(db_params)\n",
    "print(get_personal_best(conn, 'Britt', 'Helgaas', '6k'))"
   ]
  },
  {
   "cell_type": "code",
   "execution_count": null,
   "metadata": {},
   "outputs": [],
   "source": []
  }
 ],
 "metadata": {
  "kernelspec": {
   "display_name": "capstone",
   "language": "python",
   "name": "python3"
  },
  "language_info": {
   "codemirror_mode": {
    "name": "ipython",
    "version": 3
   },
   "file_extension": ".py",
   "mimetype": "text/x-python",
   "name": "python",
   "nbconvert_exporter": "python",
   "pygments_lexer": "ipython3",
   "version": "3.10.12"
  }
 },
 "nbformat": 4,
 "nbformat_minor": 2
}
