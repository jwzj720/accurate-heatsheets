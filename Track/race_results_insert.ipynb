{
 "cells": [
  {
   "cell_type": "code",
   "execution_count": 1,
   "metadata": {},
   "outputs": [],
   "source": [
    "import os\n",
    "from dotenv import load_dotenv\n",
    "import psycopg2\n",
    "import requests\n",
    "from typing import Dict, List\n",
    "import logging \n",
    "# Load the environment variables from .env file\n",
    "load_dotenv('/home/wjones/CC/Capstone/tbd2/Track/.env', override=True)\n",
    "logging.basicConfig(filename='db_insert.log', filemode='w', format='%(name)s - %(levelname)s - %(message)s', level=logging.INFO)\n",
    "\n",
    "# Get the database credentials from environment variables\n",
    "db_name = os.getenv('DB_NAME')\n",
    "db_user = os.getenv('DB_USER')\n",
    "db_password = os.getenv('DB_PASS')\n",
    "db_host = os.getenv('DB_HOST')\n",
    "db_port = os.getenv('DB_PORT')\n",
    "\n",
    "# Connect to the database\n",
    "db_params = {\n",
    "    'dbname': db_name,\n",
    "    'user': db_user,\n",
    "    'password' : db_password,\n",
    "    'host' : db_host,\n",
    "    'port' : db_port\n",
    "}"
   ]
  },
  {
   "cell_type": "code",
   "execution_count": 2,
   "metadata": {},
   "outputs": [],
   "source": [
    "def connect_db(db_params):\n",
    "    \"\"\"Connect to the PostgreSQL database server.\"\"\"\n",
    "    conn = psycopg2.connect(**db_params)\n",
    "    return conn"
   ]
  },
  {
   "cell_type": "code",
   "execution_count": 3,
   "metadata": {},
   "outputs": [],
   "source": [
    "def time_to_seconds(time_str):\n",
    "    if time_str == 'DNF' or not time_str.replace('.', '', 1).replace(':', '', 1).isdigit():\n",
    "        return None\n",
    "    min, sec = time_str.split(':')\n",
    "    sec, millisec = sec.split('.')\n",
    "    return int(min) * 60 + int(sec) + float(millisec) / 100"
   ]
  },
  {
   "cell_type": "code",
   "execution_count": 4,
   "metadata": {},
   "outputs": [],
   "source": [
    "def insert_race_result(conn, race_data):\n",
    "    with conn.cursor() as cur:\n",
    "        cur.execute(\"\"\"\n",
    "            INSERT INTO raceResults (tfrrs_meet_id, tfrrs_id, result, time)\n",
    "            VALUES (%s, %s, %s, %s)\n",
    "            ON CONFLICT (tfrrs_meet_id, tfrrs_id)\n",
    "            DO UPDATE SET result = EXCLUDED.result, time = EXCLUDED.time;\n",
    "        \"\"\", (race_data['tfrrs_meet_id'], race_data['tfrrs_id'], race_data['result'], race_data['time'],))\n",
    "        conn.commit()"
   ]
  },
  {
   "cell_type": "code",
   "execution_count": 9,
   "metadata": {},
   "outputs": [],
   "source": [
    "import csv\n",
    "conn = connect_db(db_params)\n",
    "\n",
    "with open('csv/raceResults.csv', mode='r') as input_file:\n",
    "    reader = csv.reader(input_file)\n",
    "    next(reader)  # Skip the header row\n",
    "    for row in reader:\n",
    "        tffrs_id = None\n",
    "        time_in_seconds = None\n",
    "        meet_id,athlete_url,place,time = row\n",
    "        if 'tfrrs' in athlete_url and 'athletes' in athlete_url:\n",
    "            tffrs_parts = athlete_url.split('/')\n",
    "            tffrs_id = tffrs_parts[4]  # The TFFRS ID is expected to be the fifth element\n",
    "        time_in_seconds = time_to_seconds(time)\n",
    "        if tffrs_id is not None and time_in_seconds is not None:\n",
    "            race_data = {\n",
    "                'tfrrs_meet_id': meet_id,\n",
    "                'tfrrs_id': tffrs_id,\n",
    "                'result': place,\n",
    "                'time': time_in_seconds\n",
    "            }\n",
    "                #print(race_data)\n",
    "            insert_race_result(conn, race_data)\n",
    "        else:\n",
    "            logging.info(f\"Skipping {athlete_url} with time {time}\")"
   ]
  },
  {
   "cell_type": "code",
   "execution_count": null,
   "metadata": {},
   "outputs": [],
   "source": []
  }
 ],
 "metadata": {
  "kernelspec": {
   "display_name": "capstone",
   "language": "python",
   "name": "python3"
  },
  "language_info": {
   "codemirror_mode": {
    "name": "ipython",
    "version": 3
   },
   "file_extension": ".py",
   "mimetype": "text/x-python",
   "name": "python",
   "nbconvert_exporter": "python",
   "pygments_lexer": "ipython3",
   "version": "3.10.12"
  }
 },
 "nbformat": 4,
 "nbformat_minor": 2
}
