{
 "cells": [
  {
   "cell_type": "code",
   "execution_count": null,
   "metadata": {},
   "outputs": [],
   "source": [
    "import os\n",
    "from dotenv import load_dotenv\n",
    "import psycopg2\n",
    "import requests\n",
    "from typing import Dict, List\n",
    "import logging \n",
    "# Load the environment variables from .env file\n",
    "load_dotenv('/home/wjones/CC/Capstone/tbd2/LACCTiC/.env', override=True)\n",
    "logging.basicConfig(filename='db_insert.log', filemode='w', format='%(name)s - %(levelname)s - %(message)s', level=logging.INFO)\n",
    "\n",
    "# Get the database credentials from environment variables\n",
    "db_name = os.getenv('DB_NAME')\n",
    "db_user = os.getenv('DB_USER')\n",
    "db_password = os.getenv('DB_PASS')\n",
    "db_host = os.getenv('DB_HOST')\n",
    "db_port = os.getenv('DB_PORT')\n",
    "\n",
    "# Connect to the database\n",
    "db_params = {\n",
    "    'dbname': db_name,\n",
    "    'user': db_user,\n",
    "    'password' : db_password,\n",
    "    'host' : db_host,\n",
    "    'port' : db_port\n",
    "}"
   ]
  },
  {
   "cell_type": "code",
   "execution_count": null,
   "metadata": {},
   "outputs": [],
   "source": [
    "def connect_db(db_params):\n",
    "    \"\"\"Connect to the PostgreSQL database server.\"\"\"\n",
    "    conn = psycopg2.connect(**db_params)\n",
    "    return conn"
   ]
  },
  {
   "cell_type": "code",
   "execution_count": null,
   "metadata": {},
   "outputs": [],
   "source": [
    "def time_to_seconds(time_str):\n",
    "    if time_str == 'DNF' or not time_str.replace('.', '', 1).replace(':', '', 1).isdigit():\n",
    "        return None\n",
    "    min, sec = time_str.split(':')\n",
    "    sec, millisec = sec.split('.')\n",
    "    return int(min) * 60 + int(sec) + float(millisec) / 100"
   ]
  },
  {
   "cell_type": "code",
   "execution_count": null,
   "metadata": {},
   "outputs": [],
   "source": [
    "\n",
    "# this gets the laccttic_id using the TFFRS runner_id\n",
    "def get_lacctic_id(conn, tffrs_id):\n",
    "    with conn.cursor() as cur:\n",
    "        cur.execute(\"SELECT lacctic_id FROM runners WHERE tffrs_id = %s;\", (tffrs_id,))\n",
    "        result = cur.fetchone()\n",
    "        return result[0] if result else None\n",
    "\n",
    "# this gets the primary key using the TFFRS section_id\n",
    "def get_meet_id(conn, tffrs_meet_id):\n",
    "    with conn.cursor() as cur:\n",
    "        cur.execute(\"SELECT meet_id FROM races WHERE tffrs_meet_id = %s;\", (str(tffrs_meet_id),))\n",
    "        result = cur.fetchone()\n",
    "        return result[0] if result else None\n",
    "    \n",
    "def insert_race_result(conn, race_data):\n",
    "    with conn.cursor() as cur:\n",
    "        cur.execute(\"\"\"\n",
    "            INSERT INTO raceResults (meet_id, lacctic_id, result, time)\n",
    "            VALUES (%s, %s, %s, %s)\n",
    "            ON CONFLICT (meet_id, lacctic_id)\n",
    "            DO UPDATE SET result = EXCLUDED.result, time = EXCLUDED.time;\n",
    "        \"\"\", (race_data['meet_id'], race_data['lacctic_id'], race_data['result'], race_data['time'],))\n",
    "        conn.commit()"
   ]
  },
  {
   "cell_type": "code",
   "execution_count": null,
   "metadata": {},
   "outputs": [],
   "source": [
    "import csv\n",
    "conn = connect_db(db_params)\n",
    "# Open the output CSV file\n",
    "#with open('CSV/output.csv', mode='w') as output_file:\n",
    "    #fieldnames = ['meet_id', 'lacctic_id', 'result', 'time']\n",
    "   #writer = csv.DictWriter(output_file, fieldnames=fieldnames)\n",
    "\n",
    "    # Write the header row\n",
    "    #writer.writeheader()\n",
    "\n",
    "with open('results.csv', mode='r') as input_file:\n",
    "    reader = csv.reader(input_file)\n",
    "    next(reader)  # Skip the header row\n",
    "    for row in reader:\n",
    "        tffrs_id = None\n",
    "        lacctic_id = None\n",
    "        meet_id, tffrs_url, result, time_str = row\n",
    "        if 'tfrrs' in tffrs_url and 'athletes' in tffrs_url:\n",
    "            tffrs_parts = tffrs_url.split('/')\n",
    "            tffrs_id = tffrs_parts[4]  # The TFFRS ID is expected to be the fifth element\n",
    "        time_in_seconds = time_to_seconds(time_str)\n",
    "        if tffrs_id:\n",
    "            lacctic_id = get_lacctic_id(conn, tffrs_id)\n",
    "        \n",
    "        if lacctic_id is not None:\n",
    "            race_data = {\n",
    "                'meet_id': get_meet_id(conn,meet_id),\n",
    "                'lacctic_id': lacctic_id,\n",
    "                'result': result,\n",
    "                'time': time_in_seconds\n",
    "            }\n",
    "            #print(race_data)\n",
    "\n",
    "            # Write the race_data dictionary to the CSV file\n",
    "            #writer.writerow(race_data)\n",
    "\n",
    "            insert_race_result(conn, race_data)\n",
    "        else:\n",
    "            #print(f\"No runner found for tffrs_id: {tffrs_id}\")\n",
    "            logging.info(f\"No runner found for tffrs_id: {tffrs_id}\")"
   ]
  }
 ],
 "metadata": {
  "kernelspec": {
   "display_name": "capstone_kernal",
   "language": "python",
   "name": "capstone_kernal"
  },
  "language_info": {
   "codemirror_mode": {
    "name": "ipython",
    "version": 3
   },
   "file_extension": ".py",
   "mimetype": "text/x-python",
   "name": "python",
   "nbconvert_exporter": "python",
   "pygments_lexer": "ipython3",
   "version": "3.10.12"
  }
 },
 "nbformat": 4,
 "nbformat_minor": 2
}
