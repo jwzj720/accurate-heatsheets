{
 "cells": [
  {
   "cell_type": "code",
   "execution_count": 1,
   "metadata": {},
   "outputs": [],
   "source": [
    "def parse_url(url):\n",
    "    parts = url.strip().split('/')\n",
    "    id = parts[-3]\n",
    "    team_name = parts[-2]\n",
    "    runner_name = parts[-1].replace('.html', '').replace('_', ' ')\n",
    "    return id, team_name, runner_name"
   ]
  },
  {
   "cell_type": "code",
   "execution_count": 2,
   "metadata": {},
   "outputs": [],
   "source": [
    "import csv\n",
    "\n",
    "output = 'csv/runners.csv'\n",
    "\n",
    "# Open the 'results.csv' file for reading\n",
    "with open('csv/raceResults.csv', mode='r') as file:\n",
    "    reader = csv.reader(file)\n",
    "    next(reader)  # Skip the header row\n",
    "\n",
    "    # Open the new CSV file for writing\n",
    "    with open(output, mode='w', newline='') as new_file:\n",
    "        writer = csv.writer(new_file)\n",
    "\n",
    "        # Iterate through the rows\n",
    "        for row in reader:\n",
    "            tffrs_url = row[1]\n",
    "            if 'tfrrs' in tffrs_url:\n",
    "                writer.writerow([tffrs_url])"
   ]
  },
  {
   "cell_type": "code",
   "execution_count": 4,
   "metadata": {},
   "outputs": [],
   "source": [
    "input = 'csv/runners.csv'\n",
    "output = 'csv/runners_parsed.csv'\n",
    "\n",
    "with open(input, mode='r') as infile:\n",
    "    with open(output, mode='w', newline='') as outfile:\n",
    "        reader = csv.reader(infile)\n",
    "        writer = csv.writer(outfile)\n",
    "        writer.writerow(['ID', 'Team Name', 'Runner Name'])\n",
    "        for row in reader:\n",
    "            url = row[0]  # the URL is the first column\n",
    "            id, team_name, runner_name = parse_url(url)\n",
    "            writer.writerow([id, team_name, runner_name])\n",
    "\n"
   ]
  },
  {
   "cell_type": "code",
   "execution_count": 5,
   "metadata": {},
   "outputs": [],
   "source": [
    "input = 'csv/runners_parsed.csv'\n",
    "output = 'csv/runners_parsed_with_names_split.csv'\n",
    "\n",
    "with open(input, mode='r') as infile:\n",
    "    with open(output, mode='w', newline='') as outfile:\n",
    "        reader = csv.reader(infile)\n",
    "        writer = csv.writer(outfile)\n",
    "        writer.writerow(['tffrs_id', 'team_name', 'first_name', 'last_name'])\n",
    "        \n",
    "        next(reader)\n",
    "        \n",
    "        for row in reader:\n",
    "            id, team_name, runner_name = row\n",
    "            name_parts = runner_name.split()\n",
    "            first_name = ' '.join(name_parts[:-1])  # First name is everything except the last word\n",
    "            last_name = name_parts[-1]  # Last name is the last word\n",
    "            writer.writerow([id, team_name, first_name, last_name])"
   ]
  },
  {
   "cell_type": "code",
   "execution_count": null,
   "metadata": {},
   "outputs": [],
   "source": []
  }
 ],
 "metadata": {
  "kernelspec": {
   "display_name": "capstone",
   "language": "python",
   "name": "python3"
  },
  "language_info": {
   "codemirror_mode": {
    "name": "ipython",
    "version": 3
   },
   "file_extension": ".py",
   "mimetype": "text/x-python",
   "name": "python",
   "nbconvert_exporter": "python",
   "pygments_lexer": "ipython3",
   "version": "3.10.12"
  }
 },
 "nbformat": 4,
 "nbformat_minor": 2
}
