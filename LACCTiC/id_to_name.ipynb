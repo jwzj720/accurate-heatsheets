{
 "cells": [
  {
   "cell_type": "code",
   "execution_count": 2,
   "metadata": {},
   "outputs": [],
   "source": [
    "import os\n",
    "from dotenv import load_dotenv\n",
    "import psycopg2\n",
    "import requests\n",
    "# Load environment variables from .env file\n",
    "load_dotenv('/home/wjones/CC/Capstone/tbd2/LACCTiC/.env', override=True)\n",
    "# Get database credentials from environment variables\n",
    "db_name = os.getenv('DB_NAME')\n",
    "db_user = os.getenv('DB_USER')\n",
    "db_password = os.getenv('DB_PASS')\n",
    "db_host = os.getenv('DB_HOST')\n",
    "db_port = os.getenv('DB_PORT')\n",
    "\n",
    "# Connect to the database\n",
    "conn = psycopg2.connect(\n",
    "    dbname=db_name,\n",
    "    user=db_user,\n",
    "    password=db_password,\n",
    "    host=db_host,\n",
    "    port=db_port\n",
    ")\n",
    "cursor = conn.cursor()"
   ]
  },
  {
   "cell_type": "code",
   "execution_count": 3,
   "metadata": {},
   "outputs": [],
   "source": [
    "def insert_team(team_data):\n",
    "    query = \"\"\"INSERT INTO teams (id, name, sex, color, logo) VALUES (%s, %s, %s, %s, %s)\n",
    "               ON CONFLICT (id) DO NOTHING;\"\"\"\n",
    "    cursor.execute(query, (team_data['id'], team_data['name'], team_data['sex'], team_data['color'], team_data['logo']))\n",
    "    conn.commit()"
   ]
  },
  {
   "cell_type": "code",
   "execution_count": 4,
   "metadata": {},
   "outputs": [],
   "source": [
    "def insert_runner(runner_data):\n",
    "    query = \"\"\"INSERT INTO runners (id, tfrrs_id, year_in_school, firstname, lastname, team_id, ability, ability_std, status)\n",
    "               VALUES (%s, %s, %s, %s, %s, %s, %s, %s, %s) ON CONFLICT (id) DO NOTHING;\"\"\"\n",
    "    cursor.execute(query, (runner_data['id'], runner_data['tfrrs_id'], runner_data['year_in_school'], runner_data['firstname'], runner_data['lastname'],\n",
    "                           runner_data['team']['id'], runner_data['ability'], runner_data['ability_std'], runner_data['status']))\n",
    "    conn.commit()"
   ]
  },
  {
   "cell_type": "code",
   "execution_count": 5,
   "metadata": {},
   "outputs": [],
   "source": [
    "def insert_race(race_data):\n",
    "    query = \"\"\"INSERT INTO races (id, meet_name, section, importance, date) VALUES (%s, %s, %s, %s, %s)\n",
    "               ON CONFLICT (id) DO NOTHING;\"\"\"\n",
    "    cursor.execute(query, (race_data['id'], race_data['meet_name'], race_data['section'], race_data['importance'], race_data['date']))\n",
    "    conn.commit()"
   ]
  },
  {
   "cell_type": "code",
   "execution_count": 6,
   "metadata": {},
   "outputs": [],
   "source": [
    "def insert_season_rating(season_rating, runner_id):\n",
    "    query = \"\"\"\n",
    "    INSERT INTO season_ratings (runner_id, season_year, race_weight_sig, significant, sig_tic, sig_var)\n",
    "    VALUES (%s, %s, %s, %s, %s, %s)\n",
    "    RETURNING id;  -- This will return the generated id\n",
    "    \"\"\"\n",
    "    cursor.execute(query, (\n",
    "        runner_id,\n",
    "        season_rating.get('season', {}).get('year'),  \n",
    "        season_rating.get('race_weight_sig'),\n",
    "        season_rating.get('significant'),\n",
    "        season_rating.get('sig_tic'),\n",
    "        season_rating.get('sig_var')\n",
    "    ))\n",
    "    season_rating_id = cursor.fetchone()[0]  # Fetch the generated id\n",
    "    conn.commit()\n",
    "    return season_rating_id\n"
   ]
  },
  {
   "cell_type": "code",
   "execution_count": 7,
   "metadata": {},
   "outputs": [],
   "source": [
    "def insert_season_xc_performance(xc_performance, season_rating_id):\n",
    "    query = \"\"\"INSERT INTO season_xc_performances (id, season_rating_id, time, modern_tic, race_weight_sig, significant, race_id, date, url, meet_name)\n",
    "               VALUES (%s, %s, %s, %s, %s, %s, %s, %s, %s, %s) ON CONFLICT (id) DO NOTHING;\"\"\"\n",
    "    cursor.execute(query, (xc_performance['id'], season_rating_id, xc_performance['time'], xc_performance['modern_tic'],\n",
    "                           xc_performance['race_weight_sig'], xc_performance['significant'], xc_performance['race']['id'],\n",
    "                           xc_performance['date'], xc_performance['url'], xc_performance['meet_name']))\n",
    "    conn.commit()"
   ]
  },
  {
   "cell_type": "code",
   "execution_count": 8,
   "metadata": {},
   "outputs": [],
   "source": [
    "def insert_season_track_performance(track_performance, season_rating_id):\n",
    "    query = \"\"\"INSERT INTO season_track_performances (id, season_rating_id, time, modern_tic, race_weight_sig, significant, race_id, date, url, meet_name)\n",
    "               VALUES (%s, %s, %s, %s, %s, %s, %s, %s, %s, %s) ON CONFLICT (id) DO NOTHING;\"\"\"\n",
    "    cursor.execute(query, (track_performance['id'], season_rating_id, track_performance['time'], track_performance['modern_tic'],\n",
    "                           track_performance['race_weight_sig'], track_performance['significant'], track_performance['race']['id'],\n",
    "                           track_performance['date'], track_performance['url'], track_performance['meet_name']))\n",
    "    conn.commit()"
   ]
  },
  {
   "cell_type": "code",
   "execution_count": 9,
   "metadata": {},
   "outputs": [],
   "source": [
    "# Function to process a single page of runner data\n",
    "def process_page(data):\n",
    "    for runner in data['results']: \n",
    "        insert_team(runner['team'])\n",
    "        insert_runner(runner)\n",
    "        for season_rating in runner['season_ratings']:\n",
    "            insert_season_rating(season_rating, runner['id'])\n",
    "            for xc_performance in season_rating['season_xc_performances']:\n",
    "                insert_season_xc_performance(xc_performance, season_rating['id'])\n",
    "            for track_performance in season_rating['season_track_performances']:\n",
    "                insert_season_track_performance(track_performance, season_rating['id'])\n",
    "                insert_race(track_performance['race'])"
   ]
  },
  {
   "cell_type": "code",
   "execution_count": 10,
   "metadata": {},
   "outputs": [
    {
     "ename": "KeyError",
     "evalue": "'id'",
     "output_type": "error",
     "traceback": [
      "\u001b[0;31m---------------------------------------------------------------------------\u001b[0m",
      "\u001b[0;31mKeyError\u001b[0m                                  Traceback (most recent call last)",
      "Cell \u001b[0;32mIn[10], line 10\u001b[0m\n\u001b[1;32m      8\u001b[0m \u001b[38;5;28;01mif\u001b[39;00m response\u001b[38;5;241m.\u001b[39mstatus_code \u001b[38;5;241m==\u001b[39m \u001b[38;5;241m200\u001b[39m:\n\u001b[1;32m      9\u001b[0m     data \u001b[38;5;241m=\u001b[39m response\u001b[38;5;241m.\u001b[39mjson()\n\u001b[0;32m---> 10\u001b[0m     \u001b[43mprocess_page\u001b[49m\u001b[43m(\u001b[49m\u001b[43mdata\u001b[49m\u001b[43m)\u001b[49m\n\u001b[1;32m     11\u001b[0m     next_page_url \u001b[38;5;241m=\u001b[39m data\u001b[38;5;241m.\u001b[39mget(\u001b[38;5;124m'\u001b[39m\u001b[38;5;124mnext\u001b[39m\u001b[38;5;124m'\u001b[39m)  \u001b[38;5;66;03m# Get the next page URL\u001b[39;00m\n\u001b[1;32m     12\u001b[0m     page_count \u001b[38;5;241m+\u001b[39m\u001b[38;5;241m=\u001b[39m \u001b[38;5;241m1\u001b[39m\n",
      "Cell \u001b[0;32mIn[9], line 9\u001b[0m, in \u001b[0;36mprocess_page\u001b[0;34m(data)\u001b[0m\n\u001b[1;32m      7\u001b[0m insert_season_rating(season_rating, runner[\u001b[38;5;124m'\u001b[39m\u001b[38;5;124mid\u001b[39m\u001b[38;5;124m'\u001b[39m])\n\u001b[1;32m      8\u001b[0m \u001b[38;5;28;01mfor\u001b[39;00m xc_performance \u001b[38;5;129;01min\u001b[39;00m season_rating[\u001b[38;5;124m'\u001b[39m\u001b[38;5;124mseason_xc_performances\u001b[39m\u001b[38;5;124m'\u001b[39m]:\n\u001b[0;32m----> 9\u001b[0m     insert_season_xc_performance(xc_performance, \u001b[43mseason_rating\u001b[49m\u001b[43m[\u001b[49m\u001b[38;5;124;43m'\u001b[39;49m\u001b[38;5;124;43mid\u001b[39;49m\u001b[38;5;124;43m'\u001b[39;49m\u001b[43m]\u001b[49m)\n\u001b[1;32m     10\u001b[0m \u001b[38;5;28;01mfor\u001b[39;00m track_performance \u001b[38;5;129;01min\u001b[39;00m season_rating[\u001b[38;5;124m'\u001b[39m\u001b[38;5;124mseason_track_performances\u001b[39m\u001b[38;5;124m'\u001b[39m]:\n\u001b[1;32m     11\u001b[0m     insert_season_track_performance(track_performance, season_rating[\u001b[38;5;124m'\u001b[39m\u001b[38;5;124mid\u001b[39m\u001b[38;5;124m'\u001b[39m])\n",
      "\u001b[0;31mKeyError\u001b[0m: 'id'"
     ]
    }
   ],
   "source": [
    "# Main script to retrieve and process data\n",
    "next_page_url = 'https://c03mmwsf5i.execute-api.us-east-2.amazonaws.com/production/api_ranking/runner_page/'\n",
    "page_count = 0\n",
    "max_pages = 10  \n",
    "\n",
    "while next_page_url and page_count < max_pages:\n",
    "    response = requests.get(next_page_url)\n",
    "    if response.status_code == 200:\n",
    "        data = response.json()\n",
    "        process_page(data)\n",
    "        next_page_url = data.get('next')  # Get the next page URL\n",
    "        page_count += 1\n",
    "    else:\n",
    "        print(f'Error with page {page_count + 1}: {response.status_code}')\n",
    "        break\n",
    "\n",
    "# Close the database connection\n",
    "cursor.close()\n",
    "conn.close()"
   ]
  },
  {
   "cell_type": "code",
   "execution_count": null,
   "metadata": {},
   "outputs": [],
   "source": []
  },
  {
   "cell_type": "code",
   "execution_count": null,
   "metadata": {},
   "outputs": [],
   "source": []
  }
 ],
 "metadata": {
  "kernelspec": {
   "display_name": "capstone",
   "language": "python",
   "name": "python3"
  },
  "language_info": {
   "codemirror_mode": {
    "name": "ipython",
    "version": 3
   },
   "file_extension": ".py",
   "mimetype": "text/x-python",
   "name": "python",
   "nbconvert_exporter": "python",
   "pygments_lexer": "ipython3",
   "version": "3.10.12"
  }
 },
 "nbformat": 4,
 "nbformat_minor": 2
}
