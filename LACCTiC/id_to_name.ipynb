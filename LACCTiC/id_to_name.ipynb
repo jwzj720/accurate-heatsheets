{
 "cells": [
  {
   "cell_type": "code",
   "execution_count": 1,
   "metadata": {},
   "outputs": [],
   "source": [
    "import os\n",
    "from dotenv import load_dotenv\n",
    "import psycopg2\n",
    "import requests\n",
    "from typing import Dict, List\n",
    "# Load environment variables from .env file\n",
    "load_dotenv('/home/wjones/CC/Capstone/tbd2/LACCTiC/.env', override=True)\n",
    "# Get database credentials from environment variables\n",
    "db_name = os.getenv('DB_NAME')\n",
    "db_user = os.getenv('DB_USER')\n",
    "db_password = os.getenv('DB_PASS')\n",
    "db_host = os.getenv('DB_HOST')\n",
    "db_port = os.getenv('DB_PORT')\n",
    "\n",
    "# Connect to the database\n",
    "db_params = {\n",
    "    'dbname': db_name,\n",
    "    'user': db_user,\n",
    "    'password' : db_password,\n",
    "    'host' : db_host,\n",
    "    'port' : db_port\n",
    "}"
   ]
  },
  {
   "cell_type": "code",
   "execution_count": 2,
   "metadata": {},
   "outputs": [],
   "source": [
    "def connect_db(db_params):\n",
    "    \"\"\"Connect to the PostgreSQL database server.\"\"\"\n",
    "    conn = psycopg2.connect(**db_params)\n",
    "    return conn"
   ]
  },
  {
   "cell_type": "code",
   "execution_count": 3,
   "metadata": {},
   "outputs": [],
   "source": [
    "def insert_runner(conn, runner: Dict):\n",
    "    with conn.cursor() as cur:\n",
    "        cur.execute(\"\"\"\n",
    "            INSERT INTO runners (lacctic_id, tfrrs_id, year, firstname, lastname, team_id, status)\n",
    "            VALUES (%s, %s, %s, %s, %s, %s, %s); \n",
    "        \"\"\", (runner['id'], runner['tfrrs_id'], runner['year_in_school'], runner['firstname'], runner['lastname'], runner['team']['id'], runner['status']))\n",
    "        conn.commit()"
   ]
  },
  {
   "cell_type": "code",
   "execution_count": 4,
   "metadata": {},
   "outputs": [],
   "source": [
    "def process_page(conn, page: Dict):\n",
    "    for runner in page['results']:\n",
    "        id = insert_runner(conn, runner)"
   ]
  },
  {
   "cell_type": "code",
   "execution_count": 5,
   "metadata": {},
   "outputs": [],
   "source": [
    "def main():\n",
    "    # Main script to retrieve and process data\n",
    "    next_page_url = 'https://c03mmwsf5i.execute-api.us-east-2.amazonaws.com/production/api_ranking/runner_page/'\n",
    "    page_count = 0\n",
    "    max_pages = 100000\n",
    "    conn = connect_db(db_params)\n",
    "    while next_page_url and page_count < max_pages:\n",
    "        response = requests.get(next_page_url)\n",
    "        if response.status_code == 200:\n",
    "            data = response.json()\n",
    "            process_page(conn, data)\n",
    "            #test(data)\n",
    "            next_page_url = data.get('next')  # Get the next page URL\n",
    "            #print(next_page_url)\n",
    "            page_count += 1\n",
    "            #logging.info(f'Successfully processed page {page_count}')\n",
    "        else:\n",
    "            logging.error(f'Error with page {page_count + 1}: {response.status_code}')\n",
    "            break\n",
    "    conn.close()"
   ]
  },
  {
   "cell_type": "code",
   "execution_count": 76,
   "metadata": {},
   "outputs": [],
   "source": []
  },
  {
   "cell_type": "code",
   "execution_count": 77,
   "metadata": {},
   "outputs": [],
   "source": []
  },
  {
   "cell_type": "code",
   "execution_count": 78,
   "metadata": {},
   "outputs": [],
   "source": []
  },
  {
   "cell_type": "code",
   "execution_count": 79,
   "metadata": {},
   "outputs": [],
   "source": [
    "def process_page(page: Dict):\n",
    "    for runner in page['results']:\n",
    "        insert_team(runner['team'])\n",
    "        insert_runner(runner)\n",
    "        for season_rating in runner.get('season_ratings', []):\n",
    "            season_rating_id = insert_season_rating(season_rating, runner['id'])\n",
    "            for xc_performance in season_rating.get('season_xc_performances', []):\n",
    "                insert_race(xc_performance['race'])\n",
    "                insert_season_xc_performance(xc_performance, season_rating_id)\n",
    "            for track_performance in season_rating.get('season_track_performances', []):\n",
    "                insert_race(track_performance['race'])\n",
    "                insert_season_track_performance(track_performance, season_rating_id)"
   ]
  },
  {
   "cell_type": "code",
   "execution_count": 80,
   "metadata": {},
   "outputs": [],
   "source": [
    "def test(page: Dict):\n",
    "    for runner in page['results']:\n",
    "        #print(runner)\n",
    "        for season_rating in runner.get('season_ratings', []):\n",
    "            print(season_rating)\n",
    "            \n"
   ]
  },
  {
   "cell_type": "code",
   "execution_count": 81,
   "metadata": {},
   "outputs": [],
   "source": [
    "# Main script to retrieve and process data\n",
    "next_page_url = 'https://c03mmwsf5i.execute-api.us-east-2.amazonaws.com/production/api_ranking/runner_page/'\n",
    "page_count = 0\n",
    "max_pages = 10\n",
    "\n",
    "while next_page_url and page_count < max_pages:\n",
    "    response = requests.get(next_page_url)\n",
    "    if response.status_code == 200:\n",
    "        data = response.json()\n",
    "        process_page(data)\n",
    "        #test(data)\n",
    "        next_page_url = data.get('next')  # Get the next page URL\n",
    "        page_count += 1\n",
    "    else:\n",
    "        print(f'Error with page {page_count + 1}: {response.status_code}')\n",
    "        break"
   ]
  },
  {
   "cell_type": "code",
   "execution_count": null,
   "metadata": {},
   "outputs": [],
   "source": []
  },
  {
   "cell_type": "code",
   "execution_count": null,
   "metadata": {},
   "outputs": [],
   "source": []
  }
 ],
 "metadata": {
  "kernelspec": {
   "display_name": "capstone",
   "language": "python",
   "name": "python3"
  },
  "language_info": {
   "codemirror_mode": {
    "name": "ipython",
    "version": 3
   },
   "file_extension": ".py",
   "mimetype": "text/x-python",
   "name": "python",
   "nbconvert_exporter": "python",
   "pygments_lexer": "ipython3",
   "version": "3.10.12"
  }
 },
 "nbformat": 4,
 "nbformat_minor": 2
}
